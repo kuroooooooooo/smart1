{
  "nbformat": 4,
  "nbformat_minor": 0,
  "metadata": {
    "colab": {
      "provenance": [],
      "authorship_tag": "ABX9TyNVaNGJLaYnDDc9RGIvvBdo",
      "include_colab_link": true
    },
    "kernelspec": {
      "name": "python3",
      "display_name": "Python 3"
    },
    "language_info": {
      "name": "python"
    }
  },
  "cells": [
    {
      "cell_type": "markdown",
      "metadata": {
        "id": "view-in-github",
        "colab_type": "text"
      },
      "source": [
        "<a href=\"https://colab.research.google.com/github/kuroooooooooo/smart1/blob/main/ch01_02_numpy.ipynb\" target=\"_parent\"><img src=\"https://colab.research.google.com/assets/colab-badge.svg\" alt=\"Open In Colab\"/></a>"
      ]
    },
    {
      "cell_type": "code",
      "execution_count": 1,
      "metadata": {
        "id": "V6hm9VGt3tDI"
      },
      "outputs": [],
      "source": [
        "import numpy as np"
      ]
    },
    {
      "cell_type": "code",
      "source": [
        "nums1 = np.array(range(1, 11))\n",
        "nums2 = np.array([10, 20, 30])\n",
        "\n",
        "nums1, type(nums1), nums2"
      ],
      "metadata": {
        "colab": {
          "base_uri": "https://localhost:8080/"
        },
        "id": "EF2xlOej4oU7",
        "outputId": "00c3da14-1543-4a14-a314-ae6d3d7234b6"
      },
      "execution_count": 3,
      "outputs": [
        {
          "output_type": "execute_result",
          "data": {
            "text/plain": [
              "(array([ 1,  2,  3,  4,  5,  6,  7,  8,  9, 10]),\n",
              " numpy.ndarray,\n",
              " array([10, 20, 30]))"
            ]
          },
          "metadata": {},
          "execution_count": 3
        }
      ]
    },
    {
      "cell_type": "code",
      "source": [
        "#인덱싱과 슬라이싱\n",
        "\n",
        "nums1[5],nums1[-1],nums1[2:9]"
      ],
      "metadata": {
        "colab": {
          "base_uri": "https://localhost:8080/"
        },
        "id": "EaWRYBjD8iOh",
        "outputId": "59b0184f-b360-4087-9744-572caf802bf6"
      },
      "execution_count": 7,
      "outputs": [
        {
          "output_type": "execute_result",
          "data": {
            "text/plain": [
              "(6, 10, array([3, 4, 5, 6, 7, 8, 9]))"
            ]
          },
          "metadata": {},
          "execution_count": 7
        }
      ]
    },
    {
      "cell_type": "markdown",
      "source": [
        "## 난수발생 ひぃぃ"
      ],
      "metadata": {
        "id": "nNG0RtYW89Nq"
      }
    },
    {
      "cell_type": "code",
      "source": [
        "# 0 ~ 1 사이의 실수 1개 생성 \n",
        "np.random.seed(2000)\n",
        "\n",
        "x = np.random.random(10)\n",
        "x, type(x)"
      ],
      "metadata": {
        "colab": {
          "base_uri": "https://localhost:8080/"
        },
        "id": "S4WEqJFs9Gmm",
        "outputId": "a3eb3a9d-1344-44f8-98f0-61523ab9e774"
      },
      "execution_count": 18,
      "outputs": [
        {
          "output_type": "execute_result",
          "data": {
            "text/plain": [
              "(array([0.57051729, 0.56452876, 0.48844183, 0.33647775, 0.37586818,\n",
              "        0.53203587, 0.06810629, 0.58452906, 0.23789776, 0.16075658]),\n",
              " numpy.ndarray)"
            ]
          },
          "metadata": {},
          "execution_count": 18
        }
      ]
    },
    {
      "cell_type": "code",
      "source": [
        "rnds = np.random.random((3,3))\n",
        "rnds"
      ],
      "metadata": {
        "colab": {
          "base_uri": "https://localhost:8080/"
        },
        "id": "3FPF8YXJ93gD",
        "outputId": "70a2fc47-9968-4f95-96bb-a47ff4e0027c"
      },
      "execution_count": 20,
      "outputs": [
        {
          "output_type": "execute_result",
          "data": {
            "text/plain": [
              "array([[0.86765533, 0.26187438, 0.49939512],\n",
              "       [0.4285644 , 0.53000389, 0.57394682],\n",
              "       [0.39185565, 0.07951412, 0.86728101]])"
            ]
          },
          "metadata": {},
          "execution_count": 20
        }
      ]
    },
    {
      "cell_type": "code",
      "source": [
        "# 0~9 사이의 정수 \n",
        "x1 = np.random.randint(10, size=6)\n",
        "x2 = np.random.randint(10, size=(3,4))\n",
        "x3 = np.random.randint(10, size=(3,4,5))\n",
        "x4 = np.random.randint(10, size=(3,4,5,6))\n",
        "x1\n",
        "x2\n",
        "x3\n",
        "x4"
      ],
      "metadata": {
        "colab": {
          "base_uri": "https://localhost:8080/"
        },
        "id": "aq2zftdf-D4M",
        "outputId": "73a58f32-cb95-4650-c06e-a6299ca0773e"
      },
      "execution_count": 31,
      "outputs": [
        {
          "output_type": "execute_result",
          "data": {
            "text/plain": [
              "array([[[[6, 7, 4, 7, 6, 8],\n",
              "         [1, 0, 8, 9, 6, 3],\n",
              "         [4, 4, 8, 7, 6, 5],\n",
              "         [3, 0, 5, 8, 3, 7],\n",
              "         [8, 7, 5, 9, 8, 5]],\n",
              "\n",
              "        [[3, 2, 8, 0, 2, 0],\n",
              "         [9, 3, 5, 5, 5, 6],\n",
              "         [6, 1, 0, 5, 9, 1],\n",
              "         [6, 7, 9, 5, 8, 4],\n",
              "         [9, 6, 5, 5, 9, 3]],\n",
              "\n",
              "        [[0, 2, 4, 1, 7, 6],\n",
              "         [2, 9, 3, 3, 0, 6],\n",
              "         [9, 0, 9, 9, 6, 4],\n",
              "         [0, 6, 1, 5, 6, 5],\n",
              "         [9, 1, 5, 3, 8, 9]],\n",
              "\n",
              "        [[0, 1, 2, 3, 9, 4],\n",
              "         [4, 6, 7, 8, 1, 2],\n",
              "         [9, 3, 0, 6, 0, 1],\n",
              "         [3, 1, 3, 3, 7, 5],\n",
              "         [1, 3, 6, 6, 4, 2]]],\n",
              "\n",
              "\n",
              "       [[[5, 3, 2, 7, 8, 1],\n",
              "         [8, 9, 1, 5, 2, 0],\n",
              "         [2, 9, 2, 2, 6, 6],\n",
              "         [0, 9, 9, 5, 4, 4],\n",
              "         [9, 4, 4, 7, 2, 8]],\n",
              "\n",
              "        [[9, 5, 6, 0, 7, 9],\n",
              "         [3, 4, 7, 3, 9, 5],\n",
              "         [7, 4, 8, 8, 0, 7],\n",
              "         [4, 6, 1, 4, 3, 0],\n",
              "         [8, 2, 5, 5, 9, 2]],\n",
              "\n",
              "        [[7, 3, 7, 7, 2, 5],\n",
              "         [2, 0, 0, 4, 0, 0],\n",
              "         [0, 0, 2, 9, 2, 0],\n",
              "         [6, 0, 4, 3, 8, 6],\n",
              "         [9, 1, 7, 8, 4, 8]],\n",
              "\n",
              "        [[8, 3, 2, 8, 0, 1],\n",
              "         [0, 0, 1, 5, 7, 5],\n",
              "         [2, 9, 4, 9, 8, 4],\n",
              "         [8, 8, 5, 4, 5, 3],\n",
              "         [3, 7, 3, 1, 9, 2]]],\n",
              "\n",
              "\n",
              "       [[[3, 0, 7, 4, 0, 9],\n",
              "         [0, 7, 7, 4, 0, 9],\n",
              "         [2, 5, 1, 1, 0, 3],\n",
              "         [2, 8, 4, 9, 8, 5],\n",
              "         [0, 2, 5, 3, 2, 4]],\n",
              "\n",
              "        [[4, 4, 7, 1, 8, 8],\n",
              "         [0, 8, 2, 9, 2, 4],\n",
              "         [9, 5, 2, 1, 6, 4],\n",
              "         [3, 5, 6, 5, 9, 0],\n",
              "         [4, 0, 4, 6, 6, 6]],\n",
              "\n",
              "        [[2, 4, 5, 5, 4, 8],\n",
              "         [3, 0, 6, 1, 7, 1],\n",
              "         [6, 1, 2, 0, 6, 4],\n",
              "         [3, 1, 4, 6, 8, 7],\n",
              "         [5, 5, 7, 5, 1, 6]],\n",
              "\n",
              "        [[9, 9, 1, 5, 7, 9],\n",
              "         [0, 9, 6, 9, 1, 2],\n",
              "         [4, 1, 3, 4, 0, 2],\n",
              "         [0, 8, 9, 6, 7, 4],\n",
              "         [8, 0, 3, 3, 3, 8]]]])"
            ]
          },
          "metadata": {},
          "execution_count": 31
        }
      ]
    },
    {
      "cell_type": "code",
      "source": [
        "# 균등 분포\n",
        "r1 = np.random.rand(3,2)\n",
        "r1"
      ],
      "metadata": {
        "colab": {
          "base_uri": "https://localhost:8080/"
        },
        "id": "ovIWFW1n_BWl",
        "outputId": "f7e65942-91a9-41a4-97af-0312f6a4d7be"
      },
      "execution_count": 28,
      "outputs": [
        {
          "output_type": "execute_result",
          "data": {
            "text/plain": [
              "array([[0.95579903, 0.6628237 ],\n",
              "       [0.445998  , 0.75670717],\n",
              "       [0.68923742, 0.14081001]])"
            ]
          },
          "metadata": {},
          "execution_count": 28
        }
      ]
    },
    {
      "cell_type": "code",
      "source": [
        "# 이항분포 \n",
        "b1 = np.random.binomial(10, 0.1, size=(2,5))\n",
        "b1"
      ],
      "metadata": {
        "colab": {
          "base_uri": "https://localhost:8080/"
        },
        "id": "Oj6pmiLW_ZtK",
        "outputId": "72e3a226-e1fe-4578-f84b-6e2f8727528f"
      },
      "execution_count": 32,
      "outputs": [
        {
          "output_type": "execute_result",
          "data": {
            "text/plain": [
              "array([[1, 1, 1, 0, 1],\n",
              "       [0, 0, 1, 2, 1]])"
            ]
          },
          "metadata": {},
          "execution_count": 32
        }
      ]
    },
    {
      "cell_type": "code",
      "source": [
        "#정규분포\n",
        "n1 = np.random.normal(0, 1, size=(3,4))\n",
        "n1"
      ],
      "metadata": {
        "colab": {
          "base_uri": "https://localhost:8080/"
        },
        "id": "DKZ4iZ3K_lMC",
        "outputId": "76cbcdcb-190f-4a8e-a9b7-7a435bd68079"
      },
      "execution_count": 35,
      "outputs": [
        {
          "output_type": "execute_result",
          "data": {
            "text/plain": [
              "array([[-0.34945911,  0.06120519,  0.84378041, -0.69561433],\n",
              "       [-0.73092701,  0.95427475,  0.38392292, -0.53320724],\n",
              "       [ 0.114937  , -0.40334977, -0.31890727,  0.61725555]])"
            ]
          },
          "metadata": {},
          "execution_count": 35
        }
      ]
    },
    {
      "cell_type": "code",
      "source": [
        "# 표준 정규 분포 \n",
        "dn = np.random.randn(10)\n",
        "dn"
      ],
      "metadata": {
        "colab": {
          "base_uri": "https://localhost:8080/"
        },
        "id": "_kyiH908_2du",
        "outputId": "519fd7a5-664c-4419-9186-3da50a2ece18"
      },
      "execution_count": 37,
      "outputs": [
        {
          "output_type": "execute_result",
          "data": {
            "text/plain": [
              "array([-1.03480125, -1.74587845, -1.81870981, -0.98759676, -1.00855455,\n",
              "       -0.84543998,  1.71058426, -1.58501287,  1.14076338,  1.32049329])"
            ]
          },
          "metadata": {},
          "execution_count": 37
        }
      ]
    },
    {
      "cell_type": "markdown",
      "source": [
        "## 불 마스킹과 팬시 인덱싱 "
      ],
      "metadata": {
        "id": "aShlh-MeAjXi"
      }
    },
    {
      "cell_type": "code",
      "source": [
        "age = np.random.randint(1, 100, size=10)\n",
        "age"
      ],
      "metadata": {
        "colab": {
          "base_uri": "https://localhost:8080/"
        },
        "id": "KbyCKSl4Ahy6",
        "outputId": "516a53b7-e40e-4600-9788-8e1e2871db80"
      },
      "execution_count": 38,
      "outputs": [
        {
          "output_type": "execute_result",
          "data": {
            "text/plain": [
              "array([98,  1, 66, 75,  9, 54, 45, 24, 67, 84])"
            ]
          },
          "metadata": {},
          "execution_count": 38
        }
      ]
    },
    {
      "cell_type": "code",
      "source": [
        "#나이에서 20 ~ 60 세 데이터만 추출\n",
        "\n",
        "age_mask = (age >=20) & (age <=60)\n",
        "age_mask"
      ],
      "metadata": {
        "colab": {
          "base_uri": "https://localhost:8080/"
        },
        "id": "GA97W4wJA2jJ",
        "outputId": "22246355-0954-48fb-baa5-1e424d5acb24"
      },
      "execution_count": 39,
      "outputs": [
        {
          "output_type": "execute_result",
          "data": {
            "text/plain": [
              "array([False, False, False, False, False,  True,  True,  True, False,\n",
              "       False])"
            ]
          },
          "metadata": {},
          "execution_count": 39
        }
      ]
    },
    {
      "cell_type": "code",
      "source": [
        "age2 = age[age_mask]\n",
        "age2"
      ],
      "metadata": {
        "colab": {
          "base_uri": "https://localhost:8080/"
        },
        "id": "Udwr1or1Bep1",
        "outputId": "ae0214d9-666a-4625-c5a7-de4cbcf37898"
      },
      "execution_count": 40,
      "outputs": [
        {
          "output_type": "execute_result",
          "data": {
            "text/plain": [
              "array([54, 45, 24])"
            ]
          },
          "metadata": {},
          "execution_count": 40
        }
      ]
    },
    {
      "cell_type": "code",
      "source": [
        "age[[1,3,-2]]"
      ],
      "metadata": {
        "colab": {
          "base_uri": "https://localhost:8080/"
        },
        "id": "U_KQ7CmdBlSo",
        "outputId": "8e5980ea-59ea-4b00-d7a2-dcc90600ae13"
      },
      "execution_count": 43,
      "outputs": [
        {
          "output_type": "execute_result",
          "data": {
            "text/plain": [
              "array([ 1, 75, 67])"
            ]
          },
          "metadata": {},
          "execution_count": 43
        }
      ]
    },
    {
      "cell_type": "code",
      "source": [
        "n1.shape"
      ],
      "metadata": {
        "colab": {
          "base_uri": "https://localhost:8080/"
        },
        "id": "LBSVIS_jByCM",
        "outputId": "b86b77ab-a371-47a9-ff7a-f05466dc1157"
      },
      "execution_count": 44,
      "outputs": [
        {
          "output_type": "execute_result",
          "data": {
            "text/plain": [
              "(3, 4)"
            ]
          },
          "metadata": {},
          "execution_count": 44
        }
      ]
    },
    {
      "cell_type": "code",
      "source": [
        "#reshape\n",
        "x = np.arange(12)\n",
        "x"
      ],
      "metadata": {
        "colab": {
          "base_uri": "https://localhost:8080/"
        },
        "id": "NxbE2trEB87m",
        "outputId": "05faf0ef-6d32-4087-9602-5957492da0d0"
      },
      "execution_count": 45,
      "outputs": [
        {
          "output_type": "execute_result",
          "data": {
            "text/plain": [
              "array([ 0,  1,  2,  3,  4,  5,  6,  7,  8,  9, 10, 11])"
            ]
          },
          "metadata": {},
          "execution_count": 45
        }
      ]
    },
    {
      "cell_type": "code",
      "source": [
        "x.reshape(3,4)"
      ],
      "metadata": {
        "colab": {
          "base_uri": "https://localhost:8080/"
        },
        "id": "uWMAMbj9CI16",
        "outputId": "866af57a-3fbb-494b-c245-61943d286aee"
      },
      "execution_count": 52,
      "outputs": [
        {
          "output_type": "execute_result",
          "data": {
            "text/plain": [
              "array([[ 0,  1,  2,  3],\n",
              "       [ 4,  5,  6,  7],\n",
              "       [ 8,  9, 10, 11]])"
            ]
          },
          "metadata": {},
          "execution_count": 52
        }
      ]
    },
    {
      "cell_type": "code",
      "source": [
        "n1 = range(1, 11)\n",
        "n2 = range(11, 21)\n"
      ],
      "metadata": {
        "colab": {
          "base_uri": "https://localhost:8080/",
          "height": 211
        },
        "id": "_EH2HgMPChr7",
        "outputId": "72abc82a-cfc3-4418-d38b-826c3c9a2281"
      },
      "execution_count": 54,
      "outputs": [
        {
          "output_type": "error",
          "ename": "TypeError",
          "evalue": "ignored",
          "traceback": [
            "\u001b[0;31m---------------------------------------------------------------------------\u001b[0m",
            "\u001b[0;31mTypeError\u001b[0m                                 Traceback (most recent call last)",
            "\u001b[0;32m<ipython-input-54-13b252258df5>\u001b[0m in \u001b[0;36m<module>\u001b[0;34m\u001b[0m\n\u001b[1;32m      1\u001b[0m \u001b[0mn1\u001b[0m \u001b[0;34m=\u001b[0m \u001b[0mrange\u001b[0m\u001b[0;34m(\u001b[0m\u001b[0;36m1\u001b[0m\u001b[0;34m,\u001b[0m \u001b[0;36m11\u001b[0m\u001b[0;34m)\u001b[0m\u001b[0;34m\u001b[0m\u001b[0;34m\u001b[0m\u001b[0m\n\u001b[1;32m      2\u001b[0m \u001b[0mn2\u001b[0m \u001b[0;34m=\u001b[0m \u001b[0mrange\u001b[0m\u001b[0;34m(\u001b[0m\u001b[0;36m11\u001b[0m\u001b[0;34m,\u001b[0m \u001b[0;36m21\u001b[0m\u001b[0;34m)\u001b[0m\u001b[0;34m\u001b[0m\u001b[0;34m\u001b[0m\u001b[0m\n\u001b[0;32m----> 3\u001b[0;31m \u001b[0mn3\u001b[0m \u001b[0;34m=\u001b[0m \u001b[0;34m(\u001b[0m\u001b[0mn1\u001b[0m\u001b[0;34m+\u001b[0m \u001b[0mn2\u001b[0m\u001b[0;34m)\u001b[0m\u001b[0;34m\u001b[0m\u001b[0;34m\u001b[0m\u001b[0m\n\u001b[0m",
            "\u001b[0;31mTypeError\u001b[0m: unsupported operand type(s) for +: 'range' and 'range'"
          ]
        }
      ]
    },
    {
      "cell_type": "code",
      "source": [
        "n = []\n",
        "for i, v in enumerate(n1):\n",
        "  n.append(n1[i] + n2[i])\n",
        "print(n)"
      ],
      "metadata": {
        "colab": {
          "base_uri": "https://localhost:8080/"
        },
        "id": "joUmFQxyDA6D",
        "outputId": "da6de30f-1bef-40bb-c837-0cbec04834ff"
      },
      "execution_count": 55,
      "outputs": [
        {
          "output_type": "stream",
          "name": "stdout",
          "text": [
            "[12, 14, 16, 18, 20, 22, 24, 26, 28, 30]\n"
          ]
        }
      ]
    },
    {
      "cell_type": "code",
      "source": [
        "# numpy 배열은 기본 요소끼리의 연산을 지원\n",
        "n1 = np.array(n1)\n",
        "n2 = np.array(n2)\n",
        "n3 = n1 + n2\n",
        "n3\n",
        "# 이런 배열끼리의 연산을 \"브로드 캐스팅\"이라고 한다. "
      ],
      "metadata": {
        "colab": {
          "base_uri": "https://localhost:8080/"
        },
        "id": "Rn_uzJybDbK-",
        "outputId": "022b2039-7a7f-4a04-f592-b6b9f6505ffe"
      },
      "execution_count": 57,
      "outputs": [
        {
          "output_type": "execute_result",
          "data": {
            "text/plain": [
              "array([12, 14, 16, 18, 20, 22, 24, 26, 28, 30])"
            ]
          },
          "metadata": {},
          "execution_count": 57
        }
      ]
    },
    {
      "cell_type": "code",
      "source": [
        "n3 = (n2 *2)/2\n",
        "n3"
      ],
      "metadata": {
        "colab": {
          "base_uri": "https://localhost:8080/"
        },
        "id": "8auPRngQDzna",
        "outputId": "30b29a5e-1aba-4ade-80ad-829d15ee6a11"
      },
      "execution_count": 62,
      "outputs": [
        {
          "output_type": "execute_result",
          "data": {
            "text/plain": [
              "array([11., 12., 13., 14., 15., 16., 17., 18., 19., 20.])"
            ]
          },
          "metadata": {},
          "execution_count": 62
        }
      ]
    },
    {
      "cell_type": "code",
      "source": [
        "# 유니버셜 함수 - 브로드캐스팅의 함수 버전 \n",
        "np.add(n1, 3)"
      ],
      "metadata": {
        "colab": {
          "base_uri": "https://localhost:8080/"
        },
        "id": "zi7NNgoLEERv",
        "outputId": "a75dfbd7-6906-4d90-abf5-792064e369e0"
      },
      "execution_count": 67,
      "outputs": [
        {
          "output_type": "execute_result",
          "data": {
            "text/plain": [
              "array([ 4,  5,  6,  7,  8,  9, 10, 11, 12, 13])"
            ]
          },
          "metadata": {},
          "execution_count": 67
        }
      ]
    },
    {
      "cell_type": "code",
      "source": [
        "np.random.seed(0)\n",
        "a = np.random.randint(1, 10, 10)\n",
        "b = np.random.randint(1, 10, 10)\n",
        "a , b"
      ],
      "metadata": {
        "colab": {
          "base_uri": "https://localhost:8080/"
        },
        "id": "VXNa-gZ5EcKe",
        "outputId": "339847b2-0758-4761-e43d-32d486090031"
      },
      "execution_count": 69,
      "outputs": [
        {
          "output_type": "execute_result",
          "data": {
            "text/plain": [
              "(array([6, 1, 4, 4, 8, 4, 6, 3, 5, 8]), array([7, 9, 9, 2, 7, 8, 8, 9, 2, 6]))"
            ]
          },
          "metadata": {},
          "execution_count": 69
        }
      ]
    },
    {
      "cell_type": "code",
      "source": [
        "mask = np.greater(a,b)\n",
        "mask\n",
        "\n",
        "a[mask]"
      ],
      "metadata": {
        "colab": {
          "base_uri": "https://localhost:8080/"
        },
        "id": "dfz-AIcgEw3-",
        "outputId": "a38b43df-32e0-4c36-f8a6-9b537b279c8b"
      },
      "execution_count": 71,
      "outputs": [
        {
          "output_type": "execute_result",
          "data": {
            "text/plain": [
              "array([4, 8, 5, 8])"
            ]
          },
          "metadata": {},
          "execution_count": 71
        }
      ]
    }
  ]
}